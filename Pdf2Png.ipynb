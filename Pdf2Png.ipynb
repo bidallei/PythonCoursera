{
 "cells": [
  {
   "cell_type": "code",
   "execution_count": 1,
   "id": "bdb2497e-3bd5-46f5-ba1c-3c1684298e7b",
   "metadata": {},
   "outputs": [
    {
     "name": "stdout",
     "output_type": "stream",
     "text": [
      "Página 1 guardada como pagina_1.png\n"
     ]
    }
   ],
   "source": [
    "from pdf2image import convert_from_path\n",
    "\n",
    "# Ruta al archivo PDF\n",
    "pdf_file = 'Constancias Virtuales frmadas-24.pdf'\n",
    "\n",
    "# Convertir PDF a imágenes PNG\n",
    "imagenes = convert_from_path(pdf_file)\n",
    "\n",
    "# Guardar cada página como un archivo PNG\n",
    "for i, imagen in enumerate(imagenes):\n",
    "    nombre_archivo = f'pagina_{i+1}.png'\n",
    "    imagen.save(nombre_archivo, 'PNG')\n",
    "    print(f'Página {i+1} guardada como {nombre_archivo}')\n"
   ]
  }
 ],
 "metadata": {
  "kernelspec": {
   "display_name": "Python 3 (ipykernel)",
   "language": "python",
   "name": "python3"
  },
  "language_info": {
   "codemirror_mode": {
    "name": "ipython",
    "version": 3
   },
   "file_extension": ".py",
   "mimetype": "text/x-python",
   "name": "python",
   "nbconvert_exporter": "python",
   "pygments_lexer": "ipython3",
   "version": "3.10.12"
  }
 },
 "nbformat": 4,
 "nbformat_minor": 5
}
