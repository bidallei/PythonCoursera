{
 "cells": [
  {
   "cell_type": "code",
   "execution_count": 12,
   "id": "cfc89660-7e53-4bec-af00-6eb6ef3fefb9",
   "metadata": {},
   "outputs": [
    {
     "name": "stdin",
     "output_type": "stream",
     "text": [
      "Enter location:  https://py4e-data.dr-chuck.net/comments_2110913.json\n"
     ]
    },
    {
     "name": "stdout",
     "output_type": "stream",
     "text": [
      "Retrieving https://py4e-data.dr-chuck.net/comments_2110913.json\n",
      "Retrieved 2722 characters\n",
      "Count: 50\n",
      "Sum: 2817\n"
     ]
    }
   ],
   "source": [
    "import json\n",
    "import urllib.request\n",
    "\n",
    "url = input('Enter location: ')\n",
    "if len(url) < 1 : \n",
    "    url = 'https://py4e-data.dr-chuck.net/comments_2110913.json'\n",
    "\n",
    "print('Retrieving', url)\n",
    "uh = urllib.request.urlopen(url)\n",
    "data = uh.read()\n",
    "print('Retrieved',len(data),'characters')\n",
    "\n",
    "info = json.loads(data)\n",
    "\n",
    "comments = info['comments']\n",
    "\n",
    "nums = []\n",
    "\n",
    "for item in comments:\n",
    "    nums.append(item['count'])\n",
    "\n",
    "print('Count:', len(nums))\n",
    "print('Sum:', sum(nums))\n",
    "    "
   ]
  }
 ],
 "metadata": {
  "kernelspec": {
   "display_name": "Python 3 (ipykernel)",
   "language": "python",
   "name": "python3"
  },
  "language_info": {
   "codemirror_mode": {
    "name": "ipython",
    "version": 3
   },
   "file_extension": ".py",
   "mimetype": "text/x-python",
   "name": "python",
   "nbconvert_exporter": "python",
   "pygments_lexer": "ipython3",
   "version": "3.10.12"
  }
 },
 "nbformat": 4,
 "nbformat_minor": 5
}
