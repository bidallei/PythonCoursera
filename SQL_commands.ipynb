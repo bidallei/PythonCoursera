{
 "cells": [
  {
   "cell_type": "code",
   "execution_count": null,
   "id": "b5df1679-8071-477c-b764-83dc06ce2cc6",
   "metadata": {},
   "outputs": [],
   "source": [
    "CREATE TABLE Users ( name VARCHAR(128), email VARCHAR(128) )"
   ]
  },
  {
   "cell_type": "raw",
   "id": "77aeb38c-1d24-4467-9971-2370481fb1f5",
   "metadata": {},
   "source": [
    "INSERT INTO Users (name, email) VALUES ('Kristin', 'kf@umich.edu')\n",
    "# Inserta en la tabla Users en las columnas name y email los valores entre comillas"
   ]
  },
  {
   "cell_type": "code",
   "execution_count": null,
   "id": "6a2f05c8-0ec1-4920-99a0-43c82680658a",
   "metadata": {},
   "outputs": [],
   "source": [
    "DELETE FROM Users WHERE email='ted@umich.edu'"
   ]
  },
  {
   "cell_type": "code",
   "execution_count": 1,
   "id": "7172e3d8-532f-4be4-8994-f38361f7d830",
   "metadata": {
    "collapsed": true,
    "jupyter": {
     "outputs_hidden": true
    }
   },
   "outputs": [
    {
     "ename": "SyntaxError",
     "evalue": "invalid syntax (2155145767.py, line 1)",
     "output_type": "error",
     "traceback": [
      "\u001b[0;36m  Cell \u001b[0;32mIn[1], line 1\u001b[0;36m\u001b[0m\n\u001b[0;31m    DELETE FROM Users WHERE email='fred@umich.edu'\u001b[0m\n\u001b[0m           ^\u001b[0m\n\u001b[0;31mSyntaxError\u001b[0m\u001b[0;31m:\u001b[0m invalid syntax\n"
     ]
    }
   ],
   "source": [
    "DELETE FROM Users WHERE email='fred@umich.edu'"
   ]
  },
  {
   "cell_type": "code",
   "execution_count": 2,
   "id": "26ae62f3-1bfd-4abc-a274-05f61e435170",
   "metadata": {
    "collapsed": true,
    "jupyter": {
     "outputs_hidden": true
    },
    "scrolled": true
   },
   "outputs": [
    {
     "ename": "SyntaxError",
     "evalue": "invalid syntax (1603368588.py, line 1)",
     "output_type": "error",
     "traceback": [
      "\u001b[0;36m  Cell \u001b[0;32mIn[2], line 1\u001b[0;36m\u001b[0m\n\u001b[0;31m    UPDATE Users SET name='Charles' WHERE email='csev@umich.edu'\u001b[0m\n\u001b[0m           ^\u001b[0m\n\u001b[0;31mSyntaxError\u001b[0m\u001b[0;31m:\u001b[0m invalid syntax\n"
     ]
    }
   ],
   "source": [
    "UPDATE Users SET name='Charles' WHERE email='csev@umich.edu'"
   ]
  },
  {
   "cell_type": "code",
   "execution_count": 3,
   "id": "631f79b5-078d-4763-8ef6-b64c07a51a46",
   "metadata": {
    "collapsed": true,
    "jupyter": {
     "outputs_hidden": true
    }
   },
   "outputs": [
    {
     "ename": "SyntaxError",
     "evalue": "invalid syntax (3309862681.py, line 1)",
     "output_type": "error",
     "traceback": [
      "\u001b[0;36m  Cell \u001b[0;32mIn[3], line 1\u001b[0;36m\u001b[0m\n\u001b[0;31m    SELECT * FROM Users\u001b[0m\n\u001b[0m                  ^\u001b[0m\n\u001b[0;31mSyntaxError\u001b[0m\u001b[0;31m:\u001b[0m invalid syntax\n"
     ]
    }
   ],
   "source": [
    "SELECT * FROM Users"
   ]
  },
  {
   "cell_type": "code",
   "execution_count": null,
   "id": "2d10bb9d-8ba1-4dc3-b328-2a11bb32e7a7",
   "metadata": {},
   "outputs": [],
   "source": [
    "SELECT * FROM Users WHERE email = 'csev@umich.edu'"
   ]
  },
  {
   "cell_type": "code",
   "execution_count": null,
   "id": "4ea245b5-9720-49b6-a221-29fdf82c7a29",
   "metadata": {},
   "outputs": [],
   "source": [
    "SELECT * FROM Users ORDER BY email"
   ]
  },
  {
   "cell_type": "code",
   "execution_count": null,
   "id": "a79dbfca-9d1b-410d-8f12-ef8b2605204e",
   "metadata": {},
   "outputs": [],
   "source": [
    "SELECT * FROM Users ORDER BY name"
   ]
  },
  {
   "cell_type": "code",
   "execution_count": null,
   "id": "0783677a-d667-49b5-8e4b-6a25cc5991d4",
   "metadata": {},
   "outputs": [],
   "source": [
    "SELECT COUNT(*) FROM Users"
   ]
  },
  {
   "cell_type": "code",
   "execution_count": null,
   "id": "92cba6cd-00c4-4f7b-b30c-e0cec70f91a6",
   "metadata": {},
   "outputs": [],
   "source": [
    "CREATE TABLE Genre (\n",
    "    id       INTEGER NOT NULL PRIMARY KEY AUTOINCREMENT UNIQUE,\n",
    "    name     TEXT\n",
    ")"
   ]
  },
  {
   "cell_type": "code",
   "execution_count": null,
   "id": "28bf43da-9536-426d-8bbf-a7e0e6e715a9",
   "metadata": {},
   "outputs": [],
   "source": [
    "CREATE TABLE Album (\n",
    "    id         INTEGER NOT NULL PRIMARY KEY AUTOINCREMENT UNIQUE,\n",
    "    artist_id  INTEGER, \n",
    "    title       TEXT\n",
    ")"
   ]
  },
  {
   "cell_type": "raw",
   "id": "00e98f4c-9da2-4e9b-8659-26a172564541",
   "metadata": {},
   "source": [
    "CREATE TABLE Track (\n",
    "    id         INTEGER NOT NULL PRIMARY KEY AUTOINCREMENT UNIQUE,\n",
    "    title       TEXT,\n",
    "    album_id  INTEGER, \n",
    "    genre_id  INTEGER,\n",
    "    len INTEGER,\n",
    "    rating INTEGER.\n",
    "    count INTEGER,\n",
    ")"
   ]
  },
  {
   "cell_type": "raw",
   "id": "84002005-354d-415c-ad2a-84d74354c6a4",
   "metadata": {},
   "source": []
  }
 ],
 "metadata": {
  "kernelspec": {
   "display_name": "Python 3 (ipykernel)",
   "language": "python",
   "name": "python3"
  },
  "language_info": {
   "codemirror_mode": {
    "name": "ipython",
    "version": 3
   },
   "file_extension": ".py",
   "mimetype": "text/x-python",
   "name": "python",
   "nbconvert_exporter": "python",
   "pygments_lexer": "ipython3",
   "version": "3.10.12"
  }
 },
 "nbformat": 4,
 "nbformat_minor": 5
}
