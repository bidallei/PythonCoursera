{
 "cells": [
  {
   "cell_type": "code",
   "execution_count": 5,
   "id": "1a09a42b-fa5b-40c4-9b62-66caaeef3d14",
   "metadata": {},
   "outputs": [
    {
     "name": "stdin",
     "output_type": "stream",
     "text": [
      "Enter location:  https://py4e-data.dr-chuck.net/comments_2110912.xml\n"
     ]
    },
    {
     "name": "stdout",
     "output_type": "stream",
     "text": [
      "Retrieving https://py4e-data.dr-chuck.net/comments_2110912.xml\n",
      "Retrieved 4226 characters\n",
      "Count: 50\n",
      "Sum: 2747\n"
     ]
    }
   ],
   "source": [
    "import urllib.request\n",
    "import xml.etree.ElementTree as ET\n",
    "\n",
    "url = input('Enter location: ')\n",
    "if len(url) < 1 : \n",
    "    url = 'http://py4e-data.dr-chuck.net/comments_42.xml'\n",
    "\n",
    "print('Retrieving', url)\n",
    "uh = urllib.request.urlopen(url)\n",
    "data = uh.read()\n",
    "print('Retrieved',len(data),'characters')\n",
    "tree = ET.fromstring(data)\n",
    "\n",
    "counts = tree.findall('.//count')\n",
    "nums = list()\n",
    "for result in counts:\n",
    "    # Debug print the data :)\n",
    "    nums.append(int(result.text))\n",
    "\n",
    "print('Count:', len(nums))\n",
    "print('Sum:', sum(nums))\n",
    "\n"
   ]
  },
  {
   "cell_type": "code",
   "execution_count": null,
   "id": "8503f42d-0ea5-4408-b1bc-ff69af40a28b",
   "metadata": {},
   "outputs": [],
   "source": []
  }
 ],
 "metadata": {
  "kernelspec": {
   "display_name": "Python 3 (ipykernel)",
   "language": "python",
   "name": "python3"
  },
  "language_info": {
   "codemirror_mode": {
    "name": "ipython",
    "version": 3
   },
   "file_extension": ".py",
   "mimetype": "text/x-python",
   "name": "python",
   "nbconvert_exporter": "python",
   "pygments_lexer": "ipython3",
   "version": "3.10.12"
  }
 },
 "nbformat": 4,
 "nbformat_minor": 5
}
